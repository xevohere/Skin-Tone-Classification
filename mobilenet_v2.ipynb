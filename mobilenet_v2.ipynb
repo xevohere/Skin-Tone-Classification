{
  "cells": [
    {
      "cell_type": "code",
      "execution_count": null,
      "metadata": {
        "id": "QuOzbXGAUIk_"
      },
      "outputs": [],
      "source": [
        "import os\n",
        "import zipfile\n",
        "import numpy as np\n",
        "import pandas as pd\n",
        "from sklearn.model_selection import KFold\n",
        "from tensorflow.keras.preprocessing.image import ImageDataGenerator\n",
        "from tensorflow.keras.applications import MobileNetV2\n",
        "from tensorflow.keras.applications.mobilenet_v2 import preprocess_input\n",
        "from tensorflow.keras.layers import Dense, GlobalAveragePooling2D\n",
        "from tensorflow.keras.models import Model\n",
        "from tensorflow.keras.callbacks import EarlyStopping\n",
        "import matplotlib.pyplot as plt"
      ]
    },
    {
      "cell_type": "code",
      "execution_count": null,
      "metadata": {
        "id": "kv4OiUg4UWbg"
      },
      "outputs": [],
      "source": [
        "# Unzip the dataset\n",
        "zip_file = \"resized_data (1).zip\"\n",
        "extraction_path = \"./resized_data\"\n",
        "with zipfile.ZipFile(zip_file, 'r') as zip_ref:\n",
        "    zip_ref.extractall(extraction_path)"
      ]
    },
    {
      "cell_type": "code",
      "execution_count": null,
      "metadata": {
        "id": "Sg0s6owHUWyV"
      },
      "outputs": [],
      "source": [
        "# Define dataset directories and parameters\n",
        "data_dir = extraction_path\n",
        "batch_size = 32\n",
        "img_height = 224\n",
        "img_width = 224\n",
        "num_classes = 4\n",
        "epochs = 10"
      ]
    },
    {
      "cell_type": "code",
      "execution_count": null,
      "metadata": {
        "id": "W2YzTuIGUXBR"
      },
      "outputs": [],
      "source": [
        "# Prepare K-fold cross-validation\n",
        "k = 5\n",
        "kf = KFold(n_splits=k, shuffle=True, random_state=42)\n",
        "\n",
        "# Prepare data augmentation\n",
        "datagen = ImageDataGenerator(\n",
        "    preprocessing_function=preprocess_input,\n",
        "    horizontal_flip=True,\n",
        "    zoom_range=0.2,\n",
        "    rotation_range=10,\n",
        "    validation_split=0.2\n",
        ")\n",
        "\n",
        "# Load and preprocess images for k-fold\n",
        "image_generator = datagen.flow_from_directory(\n",
        "    data_dir,\n",
        "    target_size=(img_height, img_width),\n",
        "    batch_size=batch_size,\n",
        "    class_mode='categorical',\n",
        "    shuffle=True\n",
        ")\n",
        "\n",
        "# Convert file paths to NumPy array for indexing\n",
        "filepaths = np.array(image_generator.filepaths)\n",
        "\n",
        "# K-fold cross-validation\n",
        "fold_no = 1\n",
        "accuracy_per_fold = []\n",
        "\n",
        "for train_idx, val_idx in kf.split(filepaths):\n",
        "    # Split file paths into training and validation sets\n",
        "    train_filepaths = filepaths[train_idx]\n",
        "    val_filepaths = filepaths[val_idx]\n",
        "\n",
        "    # Extract class labels from file paths\n",
        "    train_labels = [os.path.basename(os.path.dirname(path)) for path in train_filepaths]\n",
        "    val_labels = [os.path.basename(os.path.dirname(path)) for path in val_filepaths]\n",
        "\n",
        "    # Create DataFrames for train and validation data\n",
        "    train_df = pd.DataFrame({\"filename\": train_filepaths, \"class\": train_labels})\n",
        "    val_df = pd.DataFrame({\"filename\": val_filepaths, \"class\": val_labels})\n",
        "\n",
        "    # Create train and validation generators\n",
        "    train_gen = datagen.flow_from_dataframe(\n",
        "        dataframe=train_df,\n",
        "        x_col=\"filename\",\n",
        "        y_col=\"class\",\n",
        "        target_size=(img_height, img_width),\n",
        "        batch_size=batch_size,\n",
        "        class_mode='categorical',\n",
        "        shuffle=True\n",
        "    )\n",
        "    val_gen = datagen.flow_from_dataframe(\n",
        "        dataframe=val_df,\n",
        "        x_col=\"filename\",\n",
        "        y_col=\"class\",\n",
        "        target_size=(img_height, img_width),\n",
        "        batch_size=batch_size,\n",
        "        class_mode='categorical',\n",
        "        shuffle=False\n",
        "    )\n",
        "        # Define the model\n",
        "    base_model = MobileNetV2(weights='imagenet', include_top=False, input_shape=(img_height, img_width, 3))\n",
        "    x = base_model.output\n",
        "    x = GlobalAveragePooling2D()(x)\n",
        "    x = Dense(1024, activation='relu')(x)\n",
        "    predictions = Dense(num_classes, activation='softmax')(x)\n",
        "    model = Model(inputs=base_model.input, outputs=predictions)\n",
        "\n",
        "    # Freeze base layers\n",
        "    for layer in base_model.layers:\n",
        "        layer.trainable = False\n",
        "\n",
        "    # Compile the model\n",
        "    model.compile(optimizer='adam', loss='categorical_crossentropy', metrics=['accuracy'])\n",
        "\n",
        "    # Early stopping\n",
        "    early_stopping = EarlyStopping(monitor='val_loss', patience=3, restore_best_weights=True)\n",
        "\n",
        "    # Train the model\n",
        "    print(f\"Training for fold {fold_no}...\")\n",
        "    history = model.fit(\n",
        "        train_gen,\n",
        "        validation_data=val_gen,\n",
        "        epochs=epochs,\n",
        "        callbacks=[early_stopping],\n",
        "        verbose=1\n",
        "    )\n"
      ]
    },
    {
      "cell_type": "code",
      "execution_count": null,
      "metadata": {
        "id": "mjFMiBv6UXi0"
      },
      "outputs": [],
      "source": [
        "# Evaluate the model\n",
        "scores = model.evaluate(val_gen, verbose=0)\n",
        "print(f\"Fold {fold_no} - Accuracy: {scores[1]*100:.2f}%\")\n",
        "accuracy_per_fold.append(scores[1])\n",
        "\n",
        "fold_no += 1"
      ]
    },
    {
      "cell_type": "code",
      "execution_count": null,
      "metadata": {
        "id": "rtEWHlnlUxts"
      },
      "outputs": [],
      "source": [
        "print(f\"Average Accuracy: {np.mean(accuracy_per_fold)*100:.2f}%\")\n",
        "\n",
        "# Plot training and validation accuracy for the last fold\n",
        "plt.figure(figsize=(10, 5))\n",
        "plt.plot(history.history['accuracy'], label='Training Accuracy')\n",
        "plt.plot(history.history['val_accuracy'], label='Validation Accuracy')\n",
        "plt.title('Training and Validation Accuracy (Last Fold)')\n",
        "plt.xlabel('Epochs')\n",
        "plt.ylabel('Accuracy')\n",
        "plt.legend()\n",
        "plt.show()"
      ]
    }
  ],
  "metadata": {
    "colab": {
      "provenance": []
    },
    "kernelspec": {
      "display_name": "Python 3",
      "name": "python3"
    },
    "language_info": {
      "name": "python"
    }
  },
  "nbformat": 4,
  "nbformat_minor": 0
}
